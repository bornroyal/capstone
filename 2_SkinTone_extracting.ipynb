{
 "cells": [
  {
   "cell_type": "markdown",
   "metadata": {},
   "source": [
    "## Importing Libraries"
   ]
  },
  {
   "cell_type": "code",
   "execution_count": 3,
   "metadata": {},
   "outputs": [],
   "source": [
    "import numpy as np # Numpy is the building block of the other libraries we will use\n",
    "import cv2 #Open CV is used for image processing \n",
    "from sklearn.cluster import KMeans \n",
    "# The un-supervised algorithm we will use to to cluster the pixel data based on the RBG values\n",
    "from collections import Counter #This library is useful for counting labels \n",
    "import imutils # This library is useful for image processing \n",
    "import pprint # This library is useful for pretty printing data \n",
    "import matplotlib.pyplot as plt # This is a useful graph plotting library \n"
   ]
  },
  {
   "cell_type": "markdown",
   "metadata": {},
   "source": [
    "## Take Image From Computer Webcam"
   ]
  },
  {
   "cell_type": "code",
   "execution_count": 11,
   "metadata": {},
   "outputs": [],
   "source": [
    "### This will take a screenshot of the face \n",
    "cap = cv2.VideoCapture(0) # Most webcams require the number 0, but it is a number that will have to be tested for various computers can range from (0,10)\n",
    "\n",
    "\n",
    "while(True):\n",
    "    ret,frame = cap.read() # return a single frame in variable 'frame'\n",
    "    cv2.imshow('img1',frame) # display the captured image\n",
    "    \n",
    "    if cv2.waitKey(1) & 0xFF == ord('y'): # It will take and save the Image by Pressing on 'Y' on keyboard \n",
    "        cv2.imwrite('face.png',frame) #This will save the image as face.png in the images folder\n",
    "        cv2.destroyAllWindows()\n",
    "        break\n",
    "\n",
    "cap.release() \n",
    "cv2.destroyAllWindows()\n",
    "for i in range(1,5): # This will shut down the frame properly \n",
    "    cv2.waitKey(1)\n",
    "### screenshot saved in folder"
   ]
  },
  {
   "cell_type": "code",
   "execution_count": 12,
   "metadata": {},
   "outputs": [],
   "source": [
    "image = cv2.imread('face.png')"
   ]
  },
  {
   "cell_type": "code",
   "execution_count": 13,
   "metadata": {},
   "outputs": [
    {
     "data": {
      "text/plain": [
       "True"
      ]
     },
     "execution_count": 13,
     "metadata": {},
     "output_type": "execute_result"
    }
   ],
   "source": [
    "min_HSV = np.array([0, 48, 30], dtype = \"uint8\")\n",
    "max_HSV = np.array([33, 255, 255], dtype = \"uint8\")\n",
    "# Get pointer to video frames from primary device\n",
    "image = cv2.imread(\"face.png\")\n",
    "imageHSV = cv2.cvtColor(image, cv2.COLOR_BGR2HSV)\n",
    "skinRegionHSV = cv2.inRange(imageHSV, min_HSV, max_HSV)\n",
    "\n",
    "skinHSV = cv2.bitwise_and(image, image, mask = skinRegionHSV)\n",
    "\n",
    "cv2.imwrite(\"faceshot.png\", np.hstack([image, skinHSV]))"
   ]
  },
  {
   "cell_type": "code",
   "execution_count": 14,
   "metadata": {},
   "outputs": [],
   "source": [
    "def extractSkin(image):\n",
    "    # Taking a copy of the image\n",
    "    #img = image.copy()\n",
    "    # Converting from BGR Colours Space to HSV \n",
    "    img = image.copy()\n",
    "    img = cv2.cvtColor(img, cv2.COLOR_BGR2HSV)\n",
    "\n",
    "    # Defining HSV Threadholds\n",
    "    lower_threshold = np.array([0, 48, 80], dtype=np.uint8)\n",
    "    upper_threshold = np.array([20, 255, 255], dtype=np.uint8)\n",
    "\n",
    "    # Single Channel mask,denoting presence of colours in the about threshold\n",
    "    skinMask = cv2.inRange(img, lower_threshold, upper_threshold)\n",
    "\n",
    "    # Cleaning up mask using Gaussian Filter\n",
    "    skinMask = cv2.GaussianBlur(skinMask, (3, 3), 0)\n",
    "\n",
    "    # Extracting skin from the threshold mask\n",
    "    skin = cv2.bitwise_and(img, img, mask=skinMask)\n",
    "\n",
    "    # Return the Skin image\n",
    "    return cv2.cvtColor(skin, cv2.COLOR_HSV2BGR)"
   ]
  },
  {
   "cell_type": "code",
   "execution_count": 15,
   "metadata": {},
   "outputs": [],
   "source": [
    "def removeBlack(estimator_labels, estimator_cluster):\n",
    "\n",
    "    # Check for black\n",
    "    hasBlack = False\n",
    "\n",
    "    # Get the total number of occurance for each color\n",
    "    occurance_counter = Counter(estimator_labels)\n",
    "\n",
    "    # Quick lambda function to compare to lists\n",
    "    def compare(x, y): return Counter(x) == Counter(y)\n",
    "\n",
    "    # Loop through the most common occuring color\n",
    "    for x in occurance_counter.most_common(len(estimator_cluster)):\n",
    "\n",
    "        # Quick List comprehension to convert each of RBG Numbers to int\n",
    "        color = [int(i) for i in estimator_cluster[x[0]].tolist()]\n",
    "\n",
    "        # Check if the color is [0,0,0] that if it is black\n",
    "        if compare(color, [0, 0, 0]) == True:\n",
    "            # delete the occurance\n",
    "            del occurance_counter[x[0]]\n",
    "            # remove the cluster\n",
    "            hasBlack = True\n",
    "            estimator_cluster = np.delete(estimator_cluster, x[0], 0)\n",
    "            break\n",
    "\n",
    "    return (occurance_counter, estimator_cluster, hasBlack)"
   ]
  },
  {
   "cell_type": "code",
   "execution_count": 16,
   "metadata": {},
   "outputs": [],
   "source": [
    "def getColorInformation(estimator_labels, estimator_cluster, hasThresholding=False):\n",
    "\n",
    "    # Variable to keep count of the occurance of each color predicted\n",
    "    occurance_counter = None\n",
    "\n",
    "    # Output list variable to return\n",
    "    colorInformation = []\n",
    "\n",
    "    # Check for Black\n",
    "    hasBlack = False\n",
    "\n",
    "    # If a mask has be applied, remove th black\n",
    "    if hasThresholding == True:\n",
    "\n",
    "        (occurance, cluster, black) = removeBlack(\n",
    "            estimator_labels, estimator_cluster)\n",
    "        occurance_counter = occurance\n",
    "        estimator_cluster = cluster\n",
    "        hasBlack = black\n",
    "\n",
    "    else:\n",
    "        occurance_counter = Counter(estimator_labels)\n",
    "\n",
    "    # Get the total sum of all the predicted occurances\n",
    "    totalOccurance = sum(occurance_counter.values())\n",
    "\n",
    "    # Loop through all the predicted colors\n",
    "    for x in occurance_counter.most_common(len(estimator_cluster)):\n",
    "        index = (int(x[0]))\n",
    "\n",
    "        # Quick fix for index out of bound when there is no threshold\n",
    "        index = (index-1) if ((hasThresholding & hasBlack)\n",
    "                              & (int(index) != 0)) else index\n",
    "\n",
    "        # Get the color number into a list\n",
    "        color = estimator_cluster[index].tolist()\n",
    "\n",
    "        # Get the percentage of each color\n",
    "        color_percentage = (x[1]/totalOccurance)\n",
    "\n",
    "        # make the dictionay of the information\n",
    "        colorInfo = {\"cluster_index\": index, \"color\": color,\n",
    "                     \"color_percentage\": color_percentage}\n",
    "\n",
    "        # Add the dictionary to the list\n",
    "        colorInformation.append(colorInfo)\n",
    "\n",
    "    return colorInformation"
   ]
  },
  {
   "cell_type": "code",
   "execution_count": 17,
   "metadata": {},
   "outputs": [],
   "source": [
    "def extractDominantColor(image, number_of_colors=5, hasThresholding=False):\n",
    "\n",
    "    # Quick Fix Increase cluster counter to neglect the black(Read Article)\n",
    "    if hasThresholding == True:\n",
    "        number_of_colors += 1\n",
    "\n",
    "    # Taking Copy of the image\n",
    "    img = image.copy()\n",
    "\n",
    "    # Convert Image into RGB Colours Space\n",
    "    img = cv2.cvtColor(img, cv2.COLOR_BGR2RGB)\n",
    "\n",
    "    # Reshape Image\n",
    "    img = img.reshape((img.shape[0]*img.shape[1]), 3)\n",
    "\n",
    "    # Initiate KMeans Object\n",
    "    estimator = KMeans(n_clusters=number_of_colors, random_state=0)\n",
    "\n",
    "    # Fit the image\n",
    "    estimator.fit(img)\n",
    "\n",
    "    # Get Colour Information\n",
    "    colorInformation = getColorInformation(\n",
    "        estimator.labels_, estimator.cluster_centers_, hasThresholding)\n",
    "    return colorInformation"
   ]
  },
  {
   "cell_type": "code",
   "execution_count": 18,
   "metadata": {},
   "outputs": [],
   "source": [
    "def plotColorBar(colorInformation):\n",
    "    # Create a 500x100 black image\n",
    "    color_bar = np.zeros((100, 500, 3), dtype=\"uint8\")\n",
    "\n",
    "    top_x = 0\n",
    "    for x in colorInformation:\n",
    "        bottom_x = top_x + (x[\"color_percentage\"] * color_bar.shape[1])\n",
    "\n",
    "        color = tuple(map(int, (x['color'])))\n",
    "\n",
    "        cv2.rectangle(color_bar, (int(top_x), 0),\n",
    "                      (int(bottom_x), color_bar.shape[0]), color, -1)\n",
    "        top_x = bottom_x\n",
    "    return color_bar"
   ]
  },
  {
   "cell_type": "code",
   "execution_count": 19,
   "metadata": {},
   "outputs": [],
   "source": [
    "def prety_print_data(color_info):\n",
    "    for x in color_info:\n",
    "        print(pprint.pformat(x))\n",
    "        print()"
   ]
  },
  {
   "cell_type": "code",
   "execution_count": 20,
   "metadata": {},
   "outputs": [],
   "source": [
    "# resize the image to a width of 250\n",
    "image = imutils.resize(image, width=250)"
   ]
  },
  {
   "cell_type": "code",
   "execution_count": 21,
   "metadata": {},
   "outputs": [
    {
     "data": {
      "image/png": "[encoded data removed]",
      "text/plain": [
       "<Figure size 432x288 with 1 Axes>"
      ]
     },
     "metadata": {
      "needs_background": "light"
     },
     "output_type": "display_data"
    }
   ],
   "source": [
    "plt.subplot(3, 1, 1)\n",
    "plt.imshow(cv2.cvtColor(image, cv2.COLOR_BGR2RGB))\n",
    "plt.title(\"Original Image\")\n",
    "plt.show();"
   ]
  },
  {
   "cell_type": "code",
   "execution_count": 22,
   "metadata": {},
   "outputs": [
    {
     "data": {
      "image/png": "[encoded data removed]",
      "text/plain": [
       "<Figure size 432x288 with 1 Axes>"
      ]
     },
     "metadata": {
      "needs_background": "light"
     },
     "output_type": "display_data"
    }
   ],
   "source": [
    "\n",
    "# Apply Skin Mask\n",
    "\n",
    "skin = extractSkin(image)\n",
    "\n",
    "\n",
    "plt.subplot(3, 1, 2)\n",
    "plt.imshow(cv2.cvtColor(skin, cv2.COLOR_BGR2RGB))\n",
    "plt.title(\"Thresholded  Image\")\n",
    "plt.show();"
   ]
  },
  {
   "cell_type": "code",
   "execution_count": 23,
   "metadata": {},
   "outputs": [],
   "source": [
    "# Find the dominant color. Default is 1 , pass the parameter 'number_of_colors=N' where N is the specified number of colors\n",
    "dominantColors = extractDominantColor(skin, hasThresholding=True)"
   ]
  },
  {
   "cell_type": "code",
   "execution_count": 24,
   "metadata": {},
   "outputs": [
    {
     "name": "stdout",
     "output_type": "stream",
     "text": [
      "Color Information\n",
      "{'cluster_index': 2,\n",
      " 'color': [79.29471890971007, 54.2172061328791, 42.46592844974431],\n",
      " 'color_percentage': 0.3120042305658382}\n",
      "\n",
      "{'cluster_index': 1,\n",
      " 'color': [104.9362445414843, 85.29344978165952, 73.72751091703074],\n",
      " 'color_percentage': 0.30142781597038604}\n",
      "\n",
      "{'cluster_index': 4,\n",
      " 'color': [140.56919060052167, 110.85509138381227, 94.82506527415171],\n",
      " 'color_percentage': 0.20227392913802222}\n",
      "\n",
      "{'cluster_index': 3,\n",
      " 'color': [231.95505617977474, 199.68820224719127, 182.94382022471922],\n",
      " 'color_percentage': 0.09439450026441036}\n",
      "\n",
      "{'cluster_index': 0,\n",
      " 'color': [187.14662756598224, 151.31378299120212, 132.14369501466254],\n",
      " 'color_percentage': 0.0898995240613432}\n",
      "\n"
     ]
    }
   ],
   "source": [
    "# Show in the dominant color information\n",
    "print(\"Color Information\")\n",
    "prety_print_data(dominantColors)"
   ]
  },
  {
   "cell_type": "code",
   "execution_count": 25,
   "metadata": {},
   "outputs": [
    {
     "name": "stdout",
     "output_type": "stream",
     "text": [
      "Color Bar\n"
     ]
    },
    {
     "data": {
      "image/png": "[encoded data removed]",
      "text/plain": [
       "<Figure size 432x288 with 1 Axes>"
      ]
     },
     "metadata": {
      "needs_background": "light"
     },
     "output_type": "display_data"
    }
   ],
   "source": [
    "# Show in the dominant color as bar\n",
    "print(\"Color Bar\")\n",
    "colour_bar = plotColorBar(dominantColors)\n",
    "plt.subplot(3, 1, 3)\n",
    "plt.axis(\"off\")\n",
    "plt.imshow(colour_bar)\n",
    "plt.title(\"Color Bar\")\n",
    "\n",
    "plt.tight_layout()\n",
    "plt.show()"
   ]
  },
  {
   "cell_type": "code",
   "execution_count": 26,
   "metadata": {},
   "outputs": [
    {
     "data": {
      "text/plain": [
       "[79.29471890971007, 54.2172061328791, 42.46592844974431]"
      ]
     },
     "execution_count": 26,
     "metadata": {},
     "output_type": "execute_result"
    }
   ],
   "source": [
    "\n",
    "example = dominantColors[0]['color']\n",
    "example"
   ]
  },
  {
   "cell_type": "code",
   "execution_count": null,
   "metadata": {},
   "outputs": [],
   "source": []
  }
 ],
 "metadata": {
  "kernelspec": {
   "display_name": "Python 3",
   "language": "python",
   "name": "python3"
  },
  "language_info": {
   "codemirror_mode": {
    "name": "ipython",
    "version": 3
   },
   "file_extension": ".py",
   "mimetype": "text/x-python",
   "name": "python",
   "nbconvert_exporter": "python",
   "pygments_lexer": "ipython3",
   "version": "3.8.5"
  }
 },
 "nbformat": 4,
 "nbformat_minor": 4
}
