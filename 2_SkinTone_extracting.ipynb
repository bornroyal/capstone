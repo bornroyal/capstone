{
 "cells": [
  {
   "cell_type": "markdown",
   "metadata": {},
   "source": [
    "## Importing Libraries"
   ]
  },
  {
   "cell_type": "code",
   "execution_count": 1,
   "metadata": {},
   "outputs": [],
   "source": [
    "import numpy as np # Numpy is the building block of the other libraries we will use\n",
    "import cv2 #Open CV is used for image processing \n",
    "from sklearn.cluster import KMeans \n",
    "# The un-supervised algorithm we will use to to cluster the pixel data based on the RBG values\n",
    "from collections import Counter #This library is useful for counting labels \n",
    "import imutils # This library is useful for image processing \n",
    "import pprint # This library is useful for pretty printing data \n",
    "import matplotlib.pyplot as plt # This is a useful graph plotting library \n"
   ]
  },
  {
   "cell_type": "markdown",
   "metadata": {},
   "source": [
    "## Take Image From Computer Webcam"
   ]
  },
  {
   "cell_type": "code",
   "execution_count": 11,
   "metadata": {},
   "outputs": [],
   "source": [
    "### This will take a screenshot of the face \n",
    "cap = cv2.VideoCapture(0) # Most webcams require the number 0, but it is a number that will have to be tested for various computers can range from (0,10)\n",
    "\n",
    "\n",
    "while(True):\n",
    "    ret,frame = cap.read() # return a single frame in variable 'frame'\n",
    "    cv2.imshow('img1',frame) # display the captured image\n",
    "    \n",
    "    if cv2.waitKey(1) & 0xFF == ord('y'): # It will take and save the Image by Pressing on 'Y' on keyboard \n",
    "        cv2.imwrite('face.png',frame) #This will save the image as face.png in the images folder\n",
    "        cv2.destroyAllWindows()\n",
    "        break\n",
    "\n",
    "cap.release() \n",
    "cv2.destroyAllWindows()\n",
    "for i in range(1,5): # This will shut down the frame properly \n",
    "    cv2.waitKey(1)\n",
    "### screenshot saved in folder"
   ]
  },
  {
   "cell_type": "code",
   "execution_count": 4,
   "metadata": {},
   "outputs": [],
   "source": [
    "image = cv2.imread('Images/face.png')"
   ]
  },
  {
   "cell_type": "code",
   "execution_count": 6,
   "metadata": {},
   "outputs": [
    {
     "data": {
      "text/plain": [
       "True"
      ]
     },
     "execution_count": 6,
     "metadata": {},
     "output_type": "execute_result"
    }
   ],
   "source": [
    "min_HSV = np.array([0, 48, 30], dtype = \"uint8\")\n",
    "max_HSV = np.array([33, 255, 255], dtype = \"uint8\")\n",
    "# Get pointer to video frames from primary device\n",
    "image = cv2.imread(\"Images/face.png\")\n",
    "imageHSV = cv2.cvtColor(image, cv2.COLOR_BGR2HSV)\n",
    "skinRegionHSV = cv2.inRange(imageHSV, min_HSV, max_HSV)\n",
    "\n",
    "skinHSV = cv2.bitwise_and(image, image, mask = skinRegionHSV)\n",
    "\n",
    "cv2.imwrite(\"faceshot.png\", np.hstack([image, skinHSV]))"
   ]
  },
  {
   "cell_type": "code",
   "execution_count": 7,
   "metadata": {},
   "outputs": [],
   "source": [
    "def extractSkin(image):\n",
    "    # Taking a copy of the image\n",
    "    #img = image.copy()\n",
    "    # Converting from BGR Colours Space to HSV \n",
    "    img = image.copy()\n",
    "    img = cv2.cvtColor(img, cv2.COLOR_BGR2HSV)\n",
    "\n",
    "    # Defining HSV Threadholds\n",
    "    lower_threshold = np.array([0, 48, 80], dtype=np.uint8)\n",
    "    upper_threshold = np.array([20, 255, 255], dtype=np.uint8)\n",
    "\n",
    "    # Single Channel mask,denoting presence of colours in the about threshold\n",
    "    skinMask = cv2.inRange(img, lower_threshold, upper_threshold)\n",
    "\n",
    "    # Cleaning up mask using Gaussian Filter\n",
    "    skinMask = cv2.GaussianBlur(skinMask, (3, 3), 0)\n",
    "\n",
    "    # Extracting skin from the threshold mask\n",
    "    skin = cv2.bitwise_and(img, img, mask=skinMask)\n",
    "\n",
    "    # Return the Skin image\n",
    "    return cv2.cvtColor(skin, cv2.COLOR_HSV2BGR)"
   ]
  },
  {
   "cell_type": "code",
   "execution_count": 8,
   "metadata": {},
   "outputs": [],
   "source": [
    "def removeBlack(estimator_labels, estimator_cluster):\n",
    "\n",
    "    # Check for black\n",
    "    hasBlack = False\n",
    "\n",
    "    # Get the total number of occurance for each color\n",
    "    occurance_counter = Counter(estimator_labels)\n",
    "\n",
    "    # Quick lambda function to compare to lists\n",
    "    def compare(x, y): return Counter(x) == Counter(y)\n",
    "\n",
    "    # Loop through the most common occuring color\n",
    "    for x in occurance_counter.most_common(len(estimator_cluster)):\n",
    "\n",
    "        # Quick List comprehension to convert each of RBG Numbers to int\n",
    "        color = [int(i) for i in estimator_cluster[x[0]].tolist()]\n",
    "\n",
    "        # Check if the color is [0,0,0] that if it is black\n",
    "        if compare(color, [0, 0, 0]) == True:\n",
    "            # delete the occurance\n",
    "            del occurance_counter[x[0]]\n",
    "            # remove the cluster\n",
    "            hasBlack = True\n",
    "            estimator_cluster = np.delete(estimator_cluster, x[0], 0)\n",
    "            break\n",
    "\n",
    "    return (occurance_counter, estimator_cluster, hasBlack)"
   ]
  },
  {
   "cell_type": "code",
   "execution_count": 9,
   "metadata": {},
   "outputs": [],
   "source": [
    "def getColorInformation(estimator_labels, estimator_cluster, hasThresholding=False):\n",
    "\n",
    "    # Variable to keep count of the occurance of each color predicted\n",
    "    occurance_counter = None\n",
    "\n",
    "    # Output list variable to return\n",
    "    colorInformation = []\n",
    "\n",
    "    # Check for Black\n",
    "    hasBlack = False\n",
    "\n",
    "    # If a mask has be applied, remove th black\n",
    "    if hasThresholding == True:\n",
    "\n",
    "        (occurance, cluster, black) = removeBlack(\n",
    "            estimator_labels, estimator_cluster)\n",
    "        occurance_counter = occurance\n",
    "        estimator_cluster = cluster\n",
    "        hasBlack = black\n",
    "\n",
    "    else:\n",
    "        occurance_counter = Counter(estimator_labels)\n",
    "\n",
    "    # Get the total sum of all the predicted occurances\n",
    "    totalOccurance = sum(occurance_counter.values())\n",
    "\n",
    "    # Loop through all the predicted colors\n",
    "    for x in occurance_counter.most_common(len(estimator_cluster)):\n",
    "        index = (int(x[0]))\n",
    "\n",
    "        # Quick fix for index out of bound when there is no threshold\n",
    "        index = (index-1) if ((hasThresholding & hasBlack)\n",
    "                              & (int(index) != 0)) else index\n",
    "\n",
    "        # Get the color number into a list\n",
    "        color = estimator_cluster[index].tolist()\n",
    "\n",
    "        # Get the percentage of each color\n",
    "        color_percentage = (x[1]/totalOccurance)\n",
    "\n",
    "        # make the dictionay of the information\n",
    "        colorInfo = {\"cluster_index\": index, \"color\": color,\n",
    "                     \"color_percentage\": color_percentage}\n",
    "\n",
    "        # Add the dictionary to the list\n",
    "        colorInformation.append(colorInfo)\n",
    "\n",
    "    return colorInformation"
   ]
  },
  {
   "cell_type": "code",
   "execution_count": 10,
   "metadata": {},
   "outputs": [],
   "source": [
    "def extractDominantColor(image, number_of_colors=5, hasThresholding=False):\n",
    "\n",
    "    # Quick Fix Increase cluster counter to neglect the black(Read Article)\n",
    "    if hasThresholding == True:\n",
    "        number_of_colors += 1\n",
    "\n",
    "    # Taking Copy of the image\n",
    "    img = image.copy()\n",
    "\n",
    "    # Convert Image into RGB Colours Space\n",
    "    img = cv2.cvtColor(img, cv2.COLOR_BGR2RGB)\n",
    "\n",
    "    # Reshape Image\n",
    "    img = img.reshape((img.shape[0]*img.shape[1]), 3)\n",
    "\n",
    "    # Initiate KMeans Object\n",
    "    estimator = KMeans(n_clusters=number_of_colors, random_state=0)\n",
    "\n",
    "    # Fit the image\n",
    "    estimator.fit(img)\n",
    "\n",
    "    # Get Colour Information\n",
    "    colorInformation = getColorInformation(\n",
    "        estimator.labels_, estimator.cluster_centers_, hasThresholding)\n",
    "    return colorInformation"
   ]
  },
  {
   "cell_type": "code",
   "execution_count": 11,
   "metadata": {},
   "outputs": [],
   "source": [
    "def plotColorBar(colorInformation):\n",
    "    # Create a 500x100 black image\n",
    "    color_bar = np.zeros((100, 500, 3), dtype=\"uint8\")\n",
    "\n",
    "    top_x = 0\n",
    "    for x in colorInformation:\n",
    "        bottom_x = top_x + (x[\"color_percentage\"] * color_bar.shape[1])\n",
    "\n",
    "        color = tuple(map(int, (x['color'])))\n",
    "\n",
    "        cv2.rectangle(color_bar, (int(top_x), 0),\n",
    "                      (int(bottom_x), color_bar.shape[0]), color, -1)\n",
    "        top_x = bottom_x\n",
    "    return color_bar"
   ]
  },
  {
   "cell_type": "code",
   "execution_count": 12,
   "metadata": {},
   "outputs": [],
   "source": [
    "def prety_print_data(color_info):\n",
    "    for x in color_info:\n",
    "        print(pprint.pformat(x))\n",
    "        print()"
   ]
  },
  {
   "cell_type": "code",
   "execution_count": 13,
   "metadata": {},
   "outputs": [],
   "source": [
    "# resize the image to a width of 250\n",
    "image = imutils.resize(image, width=250)"
   ]
  },
  {
   "cell_type": "code",
   "execution_count": 14,
   "metadata": {},
   "outputs": [
    {
     "data": {
      "image/png": "[encoded data removed]",
      "text/plain": [
       "<Figure size 432x288 with 1 Axes>"
      ]
     },
     "metadata": {
      "needs_background": "light"
     },
     "output_type": "display_data"
    }
   ],
   "source": [
    "plt.subplot(3, 1, 1)\n",
    "plt.imshow(cv2.cvtColor(image, cv2.COLOR_BGR2RGB))\n",
    "plt.title(\"Original Image\")\n",
    "plt.show();"
   ]
  },
  {
   "cell_type": "code",
   "execution_count": 15,
   "metadata": {},
   "outputs": [
    {
     "data": {
      "image/png": "[encoded data removed]",
      "text/plain": [
       "<Figure size 432x288 with 1 Axes>"
      ]
     },
     "metadata": {
      "needs_background": "light"
     },
     "output_type": "display_data"
    }
   ],
   "source": [
    "\n",
    "# Apply Skin Mask\n",
    "\n",
    "skin = extractSkin(image)\n",
    "\n",
    "\n",
    "plt.subplot(3, 1, 2)\n",
    "plt.imshow(cv2.cvtColor(skin, cv2.COLOR_BGR2RGB))\n",
    "plt.title(\"Thresholded  Image\")\n",
    "plt.show();"
   ]
  },
  {
   "cell_type": "code",
   "execution_count": 16,
   "metadata": {},
   "outputs": [],
   "source": [
    "# Find the dominant color. Default is 1 , pass the parameter 'number_of_colors=N' where N is the specified number of colors\n",
    "dominantColors = extractDominantColor(skin, hasThresholding=True)"
   ]
  },
  {
   "cell_type": "code",
   "execution_count": 17,
   "metadata": {},
   "outputs": [
    {
     "name": "stdout",
     "output_type": "stream",
     "text": [
      "Color Information\n",
      "{'cluster_index': 1,\n",
      " 'color': [79.49740932642526, 52.61554404145067, 39.354404145077694],\n",
      " 'color_percentage': 0.24993511549441993}\n",
      "\n",
      "{'cluster_index': 0,\n",
      " 'color': [138.72085561497292, 120.17219251336886, 107.72727272727215],\n",
      " 'color_percentage': 0.24344666493641318}\n",
      "\n",
      "{'cluster_index': 3,\n",
      " 'color': [107.77133105802096, 88.50284414106929, 76.91695108077323],\n",
      " 'color_percentage': 0.2286529976641578}\n",
      "\n",
      "{'cluster_index': 4,\n",
      " 'color': [178.03780068728452, 159.20504009163793, 143.6368843069868],\n",
      " 'color_percentage': 0.2260576174409551}\n",
      "\n",
      "{'cluster_index': 2,\n",
      " 'color': [225.74129353233874, 210.3283582089551, 194.8358208955219],\n",
      " 'color_percentage': 0.051907604464053986}\n",
      "\n"
     ]
    }
   ],
   "source": [
    "# Show in the dominant color information\n",
    "print(\"Color Information\")\n",
    "prety_print_data(dominantColors)"
   ]
  },
  {
   "cell_type": "code",
   "execution_count": 18,
   "metadata": {},
   "outputs": [
    {
     "name": "stdout",
     "output_type": "stream",
     "text": [
      "Color Bar\n"
     ]
    },
    {
     "data": {
      "image/png": "[encoded data removed]",
      "text/plain": [
       "<Figure size 432x288 with 1 Axes>"
      ]
     },
     "metadata": {
      "needs_background": "light"
     },
     "output_type": "display_data"
    }
   ],
   "source": [
    "# Show in the dominant color as bar\n",
    "print(\"Color Bar\")\n",
    "colour_bar = plotColorBar(dominantColors)\n",
    "plt.subplot(3, 1, 3)\n",
    "plt.axis(\"off\")\n",
    "plt.imshow(colour_bar)\n",
    "plt.title(\"Color Bar\")\n",
    "\n",
    "plt.tight_layout()\n",
    "plt.show()"
   ]
  },
  {
   "cell_type": "code",
   "execution_count": 19,
   "metadata": {},
   "outputs": [
    {
     "data": {
      "text/plain": [
       "[79.49740932642526, 52.61554404145067, 39.354404145077694]"
      ]
     },
     "execution_count": 19,
     "metadata": {},
     "output_type": "execute_result"
    }
   ],
   "source": [
    "example = dominantColors[0]['color']\n",
    "example"
   ]
  },
  {
   "cell_type": "code",
   "execution_count": 20,
   "metadata": {},
   "outputs": [],
   "source": [
    "def dominantColors(image):\n",
    "    skin = extractSkin(image)\n",
    "    skincolor = extractDominantColor(skin, hasThresholding=True)\n",
    "    return skincolor"
   ]
  },
  {
   "cell_type": "code",
   "execution_count": 21,
   "metadata": {},
   "outputs": [
    {
     "data": {
      "text/plain": [
       "[{'cluster_index': 1,\n",
       "  'color': [79.49740932642527, 52.61554404145067, 39.354404145077694],\n",
       "  'color_percentage': 0.24993511549441993},\n",
       " {'cluster_index': 0,\n",
       "  'color': [138.72085561497292, 120.17219251336887, 107.72727272727215],\n",
       "  'color_percentage': 0.24344666493641318},\n",
       " {'cluster_index': 3,\n",
       "  'color': [107.77133105802096, 88.50284414106929, 76.91695108077325],\n",
       "  'color_percentage': 0.2286529976641578},\n",
       " {'cluster_index': 4,\n",
       "  'color': [178.0378006872845, 159.20504009163793, 143.6368843069868],\n",
       "  'color_percentage': 0.2260576174409551},\n",
       " {'cluster_index': 2,\n",
       "  'color': [225.74129353233874, 210.3283582089551, 194.8358208955219],\n",
       "  'color_percentage': 0.051907604464053986}]"
      ]
     },
     "execution_count": 21,
     "metadata": {},
     "output_type": "execute_result"
    }
   ],
   "source": [
    "dominantColors(image)"
   ]
  },
  {
   "cell_type": "markdown",
   "metadata": {},
   "source": [
    "# Pickling our Model to use in the App"
   ]
  },
  {
   "cell_type": "code",
   "execution_count": 24,
   "metadata": {},
   "outputs": [],
   "source": [
    "import pickle\n",
    "import joblib as joblib"
   ]
  },
  {
   "cell_type": "code",
   "execution_count": 25,
   "metadata": {},
   "outputs": [
    {
     "data": {
      "text/plain": [
       "['skin_model.sav']"
      ]
     },
     "execution_count": 25,
     "metadata": {},
     "output_type": "execute_result"
    }
   ],
   "source": [
    "filename = 'skin_model.sav'\n",
    "joblib.dump(extractDominantColor, filename)"
   ]
  },
  {
   "cell_type": "code",
   "execution_count": 26,
   "metadata": {},
   "outputs": [],
   "source": [
    "image=cv2.imread(\"Images/rihanna.jpeg\")"
   ]
  },
  {
   "cell_type": "code",
   "execution_count": 27,
   "metadata": {},
   "outputs": [
    {
     "name": "stdout",
     "output_type": "stream",
     "text": [
      "[{'cluster_index': 0, 'color': [28.128508124080973, 76.48478581979056, 104.06646971934973], 'color_percentage': 0.5380625931445604}, {'cluster_index': 1, 'color': [240.31455989930856, 149.1442617792769, 98.10980885707521], 'color_percentage': 0.2523397913561848}, {'cluster_index': 3, 'color': [16.850704934543558, 15.811430010067923, 19.09290030211598], 'color_percentage': 0.07890710382513662}, {'cluster_index': 4, 'color': [64.89361118727685, 119.4069097888672, 147.9640800658074], 'color_percentage': 0.07252856433184302}, {'cluster_index': 2, 'color': [171.9107449364929, 101.00240302094055, 64.11122554067938], 'color_percentage': 0.058161947342275214}]\n"
     ]
    }
   ],
   "source": [
    "loaded_model = joblib.load(filename)\n",
    "result = loaded_model(image)\n",
    "print(result)"
   ]
  },
  {
   "cell_type": "code",
   "execution_count": 28,
   "metadata": {},
   "outputs": [
    {
     "data": {
      "text/plain": [
       "[{'cluster_index': 2,\n",
       "  'color': [248.48051466039203, 152.20747247308964, 97.50600024742815],\n",
       "  'color_percentage': 0.506963092487354},\n",
       " {'cluster_index': 4,\n",
       "  'color': [223.16882773220004, 129.82640910293748, 80.69568668959982],\n",
       "  'color_percentage': 0.23449697121089116},\n",
       " {'cluster_index': 3,\n",
       "  'color': [172.85827216261956, 103.64370412196467, 67.85036702427996],\n",
       "  'color_percentage': 0.10984824829825766},\n",
       " {'cluster_index': 0,\n",
       "  'color': [225.4619640387274, 163.31604426002735, 129.0428769017978],\n",
       "  'color_percentage': 0.09055142696559046},\n",
       " {'cluster_index': 1,\n",
       "  'color': [105.78479657387592, 64.91220556745171, 44.588865096359676],\n",
       "  'color_percentage': 0.058140261037906704}]"
      ]
     },
     "execution_count": 28,
     "metadata": {},
     "output_type": "execute_result"
    }
   ],
   "source": [
    "dominantColors(image)"
   ]
  },
  {
   "cell_type": "code",
   "execution_count": 29,
   "metadata": {},
   "outputs": [
    {
     "name": "stdout",
     "output_type": "stream",
     "text": [
      "[[[ 97  76  31]\n",
      "  [ 97  76  31]\n",
      "  [ 97  76  31]\n",
      "  ...\n",
      "  [ 95  77  30]\n",
      "  [ 95  77  30]\n",
      "  [ 95  77  30]]\n",
      "\n",
      " [[ 98  77  32]\n",
      "  [ 98  77  32]\n",
      "  [ 98  77  32]\n",
      "  ...\n",
      "  [ 96  78  31]\n",
      "  [ 96  78  31]\n",
      "  [ 96  78  31]]\n",
      "\n",
      " [[ 98  77  32]\n",
      "  [ 98  77  32]\n",
      "  [ 98  77  32]\n",
      "  ...\n",
      "  [ 96  77  32]\n",
      "  [ 96  77  32]\n",
      "  [ 96  77  32]]\n",
      "\n",
      " ...\n",
      "\n",
      " [[165 138  82]\n",
      "  [165 138  82]\n",
      "  [166 139  83]\n",
      "  ...\n",
      "  [111  90  52]\n",
      "  [111  91  50]\n",
      "  [111  91  50]]\n",
      "\n",
      " [[165 138  82]\n",
      "  [165 138  82]\n",
      "  [166 139  83]\n",
      "  ...\n",
      "  [111  90  52]\n",
      "  [111  91  50]\n",
      "  [111  91  50]]\n",
      "\n",
      " [[165 138  82]\n",
      "  [165 138  82]\n",
      "  [166 139  83]\n",
      "  ...\n",
      "  [111  90  52]\n",
      "  [111  91  50]\n",
      "  [111  91  50]]]\n"
     ]
    }
   ],
   "source": [
    "print(image)"
   ]
  },
  {
   "cell_type": "code",
   "execution_count": null,
   "metadata": {},
   "outputs": [],
   "source": []
  },
  {
   "cell_type": "code",
   "execution_count": null,
   "metadata": {},
   "outputs": [],
   "source": []
  }
 ],
 "metadata": {
  "kernelspec": {
   "display_name": "Python 3",
   "language": "python",
   "name": "python3"
  },
  "language_info": {
   "codemirror_mode": {
    "name": "ipython",
    "version": 3
   },
   "file_extension": ".py",
   "mimetype": "text/x-python",
   "name": "python",
   "nbconvert_exporter": "python",
   "pygments_lexer": "ipython3",
   "version": "3.8.5"
  }
 },
 "nbformat": 4,
 "nbformat_minor": 4
}
