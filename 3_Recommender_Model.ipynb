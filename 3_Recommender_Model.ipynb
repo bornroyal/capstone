{
 "cells": [
  {
   "cell_type": "markdown",
   "metadata": {},
   "source": [
    "## Import Libraries"
   ]
  },
  {
   "cell_type": "code",
   "execution_count": 1,
   "metadata": {},
   "outputs": [],
   "source": [
    "import numpy as np\n",
    "import pandas as pd\n",
    "pd.set_option(\"display.max_rows\", None)\n",
    "pd.set_option(\"display.max_columns\", None)\n",
    "from sklearn.metrics.pairwise import cosine_similarity # This is the algorithm we will use to build our recommendations "
   ]
  },
  {
   "cell_type": "markdown",
   "metadata": {},
   "source": [
    "# Reading in the Updated Data"
   ]
  },
  {
   "cell_type": "code",
   "execution_count": 2,
   "metadata": {},
   "outputs": [],
   "source": [
    "#reading in the data\n",
    "shades = pd.read_csv('Data/allshades_updated.csv')"
   ]
  },
  {
   "cell_type": "code",
   "execution_count": 3,
   "metadata": {},
   "outputs": [
    {
     "data": {
      "text/html": [
       "<div>\n",
       "<style scoped>\n",
       "    .dataframe tbody tr th:only-of-type {\n",
       "        vertical-align: middle;\n",
       "    }\n",
       "\n",
       "    .dataframe tbody tr th {\n",
       "        vertical-align: top;\n",
       "    }\n",
       "\n",
       "    .dataframe thead th {\n",
       "        text-align: right;\n",
       "    }\n",
       "</style>\n",
       "<table border=\"1\" class=\"dataframe\">\n",
       "  <thead>\n",
       "    <tr style=\"text-align: right;\">\n",
       "      <th></th>\n",
       "      <th>Foundation</th>\n",
       "      <th>url</th>\n",
       "      <th>shade</th>\n",
       "      <th>hex</th>\n",
       "      <th>hue</th>\n",
       "      <th>sat</th>\n",
       "      <th>lightness</th>\n",
       "      <th>red</th>\n",
       "      <th>green</th>\n",
       "      <th>blue</th>\n",
       "    </tr>\n",
       "  </thead>\n",
       "  <tbody>\n",
       "    <tr>\n",
       "      <th>0</th>\n",
       "      <td>BECCA Cosmetics Ultimate Coverage 24 Hour Foun...</td>\n",
       "      <td>https://www.ulta.com/ultimate-coverage-24-hour...</td>\n",
       "      <td>Shell</td>\n",
       "      <td>(239, 203, 164)</td>\n",
       "      <td>31.200000</td>\n",
       "      <td>0.700935</td>\n",
       "      <td>0.790196</td>\n",
       "      <td>239</td>\n",
       "      <td>203</td>\n",
       "      <td>164</td>\n",
       "    </tr>\n",
       "    <tr>\n",
       "      <th>1</th>\n",
       "      <td>BECCA Cosmetics Ultimate Coverage 24 Hour Foun...</td>\n",
       "      <td>https://www.ulta.com/ultimate-coverage-24-hour...</td>\n",
       "      <td>Linen</td>\n",
       "      <td>(243, 206, 176)</td>\n",
       "      <td>26.865672</td>\n",
       "      <td>0.736264</td>\n",
       "      <td>0.821569</td>\n",
       "      <td>243</td>\n",
       "      <td>206</td>\n",
       "      <td>176</td>\n",
       "    </tr>\n",
       "    <tr>\n",
       "      <th>2</th>\n",
       "      <td>BECCA Cosmetics Ultimate Coverage 24 Hour Foun...</td>\n",
       "      <td>https://www.ulta.com/ultimate-coverage-24-hour...</td>\n",
       "      <td>Alabaster</td>\n",
       "      <td>(242, 203, 180)</td>\n",
       "      <td>22.258065</td>\n",
       "      <td>0.704545</td>\n",
       "      <td>0.827451</td>\n",
       "      <td>242</td>\n",
       "      <td>203</td>\n",
       "      <td>180</td>\n",
       "    </tr>\n",
       "    <tr>\n",
       "      <th>3</th>\n",
       "      <td>BECCA Cosmetics Ultimate Coverage 24 Hour Foun...</td>\n",
       "      <td>https://www.ulta.com/ultimate-coverage-24-hour...</td>\n",
       "      <td>Porcelain</td>\n",
       "      <td>(246, 200, 167)</td>\n",
       "      <td>25.063291</td>\n",
       "      <td>0.814433</td>\n",
       "      <td>0.809804</td>\n",
       "      <td>246</td>\n",
       "      <td>200</td>\n",
       "      <td>167</td>\n",
       "    </tr>\n",
       "    <tr>\n",
       "      <th>4</th>\n",
       "      <td>BECCA Cosmetics Ultimate Coverage 24 Hour Foun...</td>\n",
       "      <td>https://www.ulta.com/ultimate-coverage-24-hour...</td>\n",
       "      <td>Ivory</td>\n",
       "      <td>(240, 196, 171)</td>\n",
       "      <td>21.739130</td>\n",
       "      <td>0.696970</td>\n",
       "      <td>0.805882</td>\n",
       "      <td>240</td>\n",
       "      <td>196</td>\n",
       "      <td>171</td>\n",
       "    </tr>\n",
       "  </tbody>\n",
       "</table>\n",
       "</div>"
      ],
      "text/plain": [
       "                                          Foundation  \\\n",
       "0  BECCA Cosmetics Ultimate Coverage 24 Hour Foun...   \n",
       "1  BECCA Cosmetics Ultimate Coverage 24 Hour Foun...   \n",
       "2  BECCA Cosmetics Ultimate Coverage 24 Hour Foun...   \n",
       "3  BECCA Cosmetics Ultimate Coverage 24 Hour Foun...   \n",
       "4  BECCA Cosmetics Ultimate Coverage 24 Hour Foun...   \n",
       "\n",
       "                                                 url      shade  \\\n",
       "0  https://www.ulta.com/ultimate-coverage-24-hour...      Shell   \n",
       "1  https://www.ulta.com/ultimate-coverage-24-hour...      Linen   \n",
       "2  https://www.ulta.com/ultimate-coverage-24-hour...  Alabaster   \n",
       "3  https://www.ulta.com/ultimate-coverage-24-hour...  Porcelain   \n",
       "4  https://www.ulta.com/ultimate-coverage-24-hour...      Ivory   \n",
       "\n",
       "               hex        hue       sat  lightness  red  green  blue  \n",
       "0  (239, 203, 164)  31.200000  0.700935   0.790196  239    203   164  \n",
       "1  (243, 206, 176)  26.865672  0.736264   0.821569  243    206   176  \n",
       "2  (242, 203, 180)  22.258065  0.704545   0.827451  242    203   180  \n",
       "3  (246, 200, 167)  25.063291  0.814433   0.809804  246    200   167  \n",
       "4  (240, 196, 171)  21.739130  0.696970   0.805882  240    196   171  "
      ]
     },
     "execution_count": 3,
     "metadata": {},
     "output_type": "execute_result"
    }
   ],
   "source": [
    "# Viewing the first 5 rows\n",
    "shades.head()"
   ]
  },
  {
   "cell_type": "code",
   "execution_count": 4,
   "metadata": {},
   "outputs": [
    {
     "data": {
      "text/html": [
       "<div>\n",
       "<style scoped>\n",
       "    .dataframe tbody tr th:only-of-type {\n",
       "        vertical-align: middle;\n",
       "    }\n",
       "\n",
       "    .dataframe tbody tr th {\n",
       "        vertical-align: top;\n",
       "    }\n",
       "\n",
       "    .dataframe thead th {\n",
       "        text-align: right;\n",
       "    }\n",
       "</style>\n",
       "<table border=\"1\" class=\"dataframe\">\n",
       "  <thead>\n",
       "    <tr style=\"text-align: right;\">\n",
       "      <th></th>\n",
       "      <th>Foundation</th>\n",
       "      <th>url</th>\n",
       "      <th>shade</th>\n",
       "      <th>hex</th>\n",
       "      <th>hue</th>\n",
       "      <th>sat</th>\n",
       "      <th>lightness</th>\n",
       "      <th>red</th>\n",
       "      <th>green</th>\n",
       "      <th>blue</th>\n",
       "    </tr>\n",
       "  </thead>\n",
       "  <tbody>\n",
       "    <tr>\n",
       "      <th>3039</th>\n",
       "      <td>SEPHORA COLLECTION Best Skin Ever Liquid Found...</td>\n",
       "      <td>https://www.sephora.com/product/sephora-collec...</td>\n",
       "      <td>N</td>\n",
       "      <td>(134, 102, 69)</td>\n",
       "      <td>30.461538</td>\n",
       "      <td>0.320197</td>\n",
       "      <td>0.398039</td>\n",
       "      <td>134</td>\n",
       "      <td>102</td>\n",
       "      <td>69</td>\n",
       "    </tr>\n",
       "    <tr>\n",
       "      <th>3040</th>\n",
       "      <td>SEPHORA COLLECTION Best Skin Ever Liquid Found...</td>\n",
       "      <td>https://www.sephora.com/product/sephora-collec...</td>\n",
       "      <td>P</td>\n",
       "      <td>(123, 87, 57)</td>\n",
       "      <td>27.272727</td>\n",
       "      <td>0.366667</td>\n",
       "      <td>0.352941</td>\n",
       "      <td>123</td>\n",
       "      <td>87</td>\n",
       "      <td>57</td>\n",
       "    </tr>\n",
       "    <tr>\n",
       "      <th>3041</th>\n",
       "      <td>SEPHORA COLLECTION Best Skin Ever Liquid Found...</td>\n",
       "      <td>https://www.sephora.com/product/sephora-collec...</td>\n",
       "      <td>N</td>\n",
       "      <td>(122, 90, 60)</td>\n",
       "      <td>29.032258</td>\n",
       "      <td>0.340659</td>\n",
       "      <td>0.356863</td>\n",
       "      <td>122</td>\n",
       "      <td>90</td>\n",
       "      <td>60</td>\n",
       "    </tr>\n",
       "    <tr>\n",
       "      <th>3042</th>\n",
       "      <td>Lancôme Bienfait Teinté Beauty Balm Sunscreen ...</td>\n",
       "      <td>https://www.sephora.com/product/bienfait-teint...</td>\n",
       "      <td>Sand</td>\n",
       "      <td>(210, 159, 119)</td>\n",
       "      <td>26.373626</td>\n",
       "      <td>0.502762</td>\n",
       "      <td>0.645098</td>\n",
       "      <td>210</td>\n",
       "      <td>159</td>\n",
       "      <td>119</td>\n",
       "    </tr>\n",
       "    <tr>\n",
       "      <th>3043</th>\n",
       "      <td>bareMinerals bareSkin® Pure Brightening Serum ...</td>\n",
       "      <td>https://www.sephora.com/product/bareskin-pure-...</td>\n",
       "      <td>Bare Mocha</td>\n",
       "      <td>(175, 115, 87)</td>\n",
       "      <td>19.090909</td>\n",
       "      <td>0.354839</td>\n",
       "      <td>0.513725</td>\n",
       "      <td>175</td>\n",
       "      <td>115</td>\n",
       "      <td>87</td>\n",
       "    </tr>\n",
       "  </tbody>\n",
       "</table>\n",
       "</div>"
      ],
      "text/plain": [
       "                                             Foundation  \\\n",
       "3039  SEPHORA COLLECTION Best Skin Ever Liquid Found...   \n",
       "3040  SEPHORA COLLECTION Best Skin Ever Liquid Found...   \n",
       "3041  SEPHORA COLLECTION Best Skin Ever Liquid Found...   \n",
       "3042  Lancôme Bienfait Teinté Beauty Balm Sunscreen ...   \n",
       "3043  bareMinerals bareSkin® Pure Brightening Serum ...   \n",
       "\n",
       "                                                    url       shade  \\\n",
       "3039  https://www.sephora.com/product/sephora-collec...           N   \n",
       "3040  https://www.sephora.com/product/sephora-collec...           P   \n",
       "3041  https://www.sephora.com/product/sephora-collec...           N   \n",
       "3042  https://www.sephora.com/product/bienfait-teint...        Sand   \n",
       "3043  https://www.sephora.com/product/bareskin-pure-...  Bare Mocha   \n",
       "\n",
       "                  hex        hue       sat  lightness  red  green  blue  \n",
       "3039   (134, 102, 69)  30.461538  0.320197   0.398039  134    102    69  \n",
       "3040    (123, 87, 57)  27.272727  0.366667   0.352941  123     87    57  \n",
       "3041    (122, 90, 60)  29.032258  0.340659   0.356863  122     90    60  \n",
       "3042  (210, 159, 119)  26.373626  0.502762   0.645098  210    159   119  \n",
       "3043   (175, 115, 87)  19.090909  0.354839   0.513725  175    115    87  "
      ]
     },
     "execution_count": 4,
     "metadata": {},
     "output_type": "execute_result"
    }
   ],
   "source": [
    "# Viewing the last 5 rows\n",
    "shades.tail()"
   ]
  },
  {
   "cell_type": "code",
   "execution_count": 21,
   "metadata": {},
   "outputs": [],
   "source": [
    "#shades"
   ]
  },
  {
   "cell_type": "markdown",
   "metadata": {},
   "source": [
    "# Lets test the Cosine Similarity Function"
   ]
  },
  {
   "cell_type": "code",
   "execution_count": 23,
   "metadata": {},
   "outputs": [],
   "source": [
    "shades.iloc[2698] # This is my actual foundation \n",
    "actual_foundation = [[129, 86, 51]] # This is the RGB values for my foundation\n",
    "my_skin = [[80, 53, 39]] # This is the RGB values from our extract dominant color algorithm for my photo "
   ]
  },
  {
   "cell_type": "code",
   "execution_count": 24,
   "metadata": {},
   "outputs": [
    {
     "data": {
      "text/plain": [
       "array([[0.99767061]])"
      ]
     },
     "execution_count": 24,
     "metadata": {},
     "output_type": "execute_result"
    }
   ],
   "source": [
    "cosine_similarity(my_skin, actual_foundation, dense_output=False) # Calculating the cosine similarity of my skin and my actual foundation"
   ]
  },
  {
   "cell_type": "code",
   "execution_count": 34,
   "metadata": {},
   "outputs": [
    {
     "data": {
      "text/html": [
       "<div>\n",
       "<style scoped>\n",
       "    .dataframe tbody tr th:only-of-type {\n",
       "        vertical-align: middle;\n",
       "    }\n",
       "\n",
       "    .dataframe tbody tr th {\n",
       "        vertical-align: top;\n",
       "    }\n",
       "\n",
       "    .dataframe thead th {\n",
       "        text-align: right;\n",
       "    }\n",
       "</style>\n",
       "<table border=\"1\" class=\"dataframe\">\n",
       "  <thead>\n",
       "    <tr style=\"text-align: right;\">\n",
       "      <th></th>\n",
       "      <th>Foundation</th>\n",
       "      <th>url</th>\n",
       "      <th>shade</th>\n",
       "      <th>hex</th>\n",
       "      <th>hue</th>\n",
       "      <th>sat</th>\n",
       "      <th>lightness</th>\n",
       "      <th>red</th>\n",
       "      <th>green</th>\n",
       "      <th>blue</th>\n",
       "    </tr>\n",
       "  </thead>\n",
       "  <tbody>\n",
       "    <tr>\n",
       "      <th>0</th>\n",
       "      <td>BECCA Cosmetics Ultimate Coverage 24 Hour Foun...</td>\n",
       "      <td>https://www.ulta.com/ultimate-coverage-24-hour...</td>\n",
       "      <td>Shell</td>\n",
       "      <td>(239, 203, 164)</td>\n",
       "      <td>31.200000</td>\n",
       "      <td>0.700935</td>\n",
       "      <td>0.790196</td>\n",
       "      <td>239</td>\n",
       "      <td>203</td>\n",
       "      <td>164</td>\n",
       "    </tr>\n",
       "    <tr>\n",
       "      <th>1</th>\n",
       "      <td>BECCA Cosmetics Ultimate Coverage 24 Hour Foun...</td>\n",
       "      <td>https://www.ulta.com/ultimate-coverage-24-hour...</td>\n",
       "      <td>Linen</td>\n",
       "      <td>(243, 206, 176)</td>\n",
       "      <td>26.865672</td>\n",
       "      <td>0.736264</td>\n",
       "      <td>0.821569</td>\n",
       "      <td>243</td>\n",
       "      <td>206</td>\n",
       "      <td>176</td>\n",
       "    </tr>\n",
       "    <tr>\n",
       "      <th>2</th>\n",
       "      <td>BECCA Cosmetics Ultimate Coverage 24 Hour Foun...</td>\n",
       "      <td>https://www.ulta.com/ultimate-coverage-24-hour...</td>\n",
       "      <td>Alabaster</td>\n",
       "      <td>(242, 203, 180)</td>\n",
       "      <td>22.258065</td>\n",
       "      <td>0.704545</td>\n",
       "      <td>0.827451</td>\n",
       "      <td>242</td>\n",
       "      <td>203</td>\n",
       "      <td>180</td>\n",
       "    </tr>\n",
       "    <tr>\n",
       "      <th>3</th>\n",
       "      <td>BECCA Cosmetics Ultimate Coverage 24 Hour Foun...</td>\n",
       "      <td>https://www.ulta.com/ultimate-coverage-24-hour...</td>\n",
       "      <td>Porcelain</td>\n",
       "      <td>(246, 200, 167)</td>\n",
       "      <td>25.063291</td>\n",
       "      <td>0.814433</td>\n",
       "      <td>0.809804</td>\n",
       "      <td>246</td>\n",
       "      <td>200</td>\n",
       "      <td>167</td>\n",
       "    </tr>\n",
       "    <tr>\n",
       "      <th>4</th>\n",
       "      <td>BECCA Cosmetics Ultimate Coverage 24 Hour Foun...</td>\n",
       "      <td>https://www.ulta.com/ultimate-coverage-24-hour...</td>\n",
       "      <td>Ivory</td>\n",
       "      <td>(240, 196, 171)</td>\n",
       "      <td>21.739130</td>\n",
       "      <td>0.696970</td>\n",
       "      <td>0.805882</td>\n",
       "      <td>240</td>\n",
       "      <td>196</td>\n",
       "      <td>171</td>\n",
       "    </tr>\n",
       "  </tbody>\n",
       "</table>\n",
       "</div>"
      ],
      "text/plain": [
       "                                          Foundation  \\\n",
       "0  BECCA Cosmetics Ultimate Coverage 24 Hour Foun...   \n",
       "1  BECCA Cosmetics Ultimate Coverage 24 Hour Foun...   \n",
       "2  BECCA Cosmetics Ultimate Coverage 24 Hour Foun...   \n",
       "3  BECCA Cosmetics Ultimate Coverage 24 Hour Foun...   \n",
       "4  BECCA Cosmetics Ultimate Coverage 24 Hour Foun...   \n",
       "\n",
       "                                                 url      shade  \\\n",
       "0  https://www.ulta.com/ultimate-coverage-24-hour...      Shell   \n",
       "1  https://www.ulta.com/ultimate-coverage-24-hour...      Linen   \n",
       "2  https://www.ulta.com/ultimate-coverage-24-hour...  Alabaster   \n",
       "3  https://www.ulta.com/ultimate-coverage-24-hour...  Porcelain   \n",
       "4  https://www.ulta.com/ultimate-coverage-24-hour...      Ivory   \n",
       "\n",
       "               hex        hue       sat  lightness  red  green  blue  \n",
       "0  (239, 203, 164)  31.200000  0.700935   0.790196  239    203   164  \n",
       "1  (243, 206, 176)  26.865672  0.736264   0.821569  243    206   176  \n",
       "2  (242, 203, 180)  22.258065  0.704545   0.827451  242    203   180  \n",
       "3  (246, 200, 167)  25.063291  0.814433   0.809804  246    200   167  \n",
       "4  (240, 196, 171)  21.739130  0.696970   0.805882  240    196   171  "
      ]
     },
     "execution_count": 34,
     "metadata": {},
     "output_type": "execute_result"
    }
   ],
   "source": [
    "shades.head()"
   ]
  },
  {
   "cell_type": "markdown",
   "metadata": {},
   "source": [
    "## Creating a new Data Frame based on just the RGB values and the foundation column"
   ]
  },
  {
   "cell_type": "code",
   "execution_count": 39,
   "metadata": {},
   "outputs": [],
   "source": [
    "\n",
    "shades_new = shades[['Foundation','red', 'green', 'blue']].copy()"
   ]
  },
  {
   "cell_type": "code",
   "execution_count": 40,
   "metadata": {},
   "outputs": [
    {
     "data": {
      "text/html": [
       "<div>\n",
       "<style scoped>\n",
       "    .dataframe tbody tr th:only-of-type {\n",
       "        vertical-align: middle;\n",
       "    }\n",
       "\n",
       "    .dataframe tbody tr th {\n",
       "        vertical-align: top;\n",
       "    }\n",
       "\n",
       "    .dataframe thead th {\n",
       "        text-align: right;\n",
       "    }\n",
       "</style>\n",
       "<table border=\"1\" class=\"dataframe\">\n",
       "  <thead>\n",
       "    <tr style=\"text-align: right;\">\n",
       "      <th></th>\n",
       "      <th>Foundation</th>\n",
       "      <th>red</th>\n",
       "      <th>green</th>\n",
       "      <th>blue</th>\n",
       "    </tr>\n",
       "  </thead>\n",
       "  <tbody>\n",
       "    <tr>\n",
       "      <th>0</th>\n",
       "      <td>BECCA Cosmetics Ultimate Coverage 24 Hour Foun...</td>\n",
       "      <td>239</td>\n",
       "      <td>203</td>\n",
       "      <td>164</td>\n",
       "    </tr>\n",
       "    <tr>\n",
       "      <th>1</th>\n",
       "      <td>BECCA Cosmetics Ultimate Coverage 24 Hour Foun...</td>\n",
       "      <td>243</td>\n",
       "      <td>206</td>\n",
       "      <td>176</td>\n",
       "    </tr>\n",
       "    <tr>\n",
       "      <th>2</th>\n",
       "      <td>BECCA Cosmetics Ultimate Coverage 24 Hour Foun...</td>\n",
       "      <td>242</td>\n",
       "      <td>203</td>\n",
       "      <td>180</td>\n",
       "    </tr>\n",
       "    <tr>\n",
       "      <th>3</th>\n",
       "      <td>BECCA Cosmetics Ultimate Coverage 24 Hour Foun...</td>\n",
       "      <td>246</td>\n",
       "      <td>200</td>\n",
       "      <td>167</td>\n",
       "    </tr>\n",
       "    <tr>\n",
       "      <th>4</th>\n",
       "      <td>BECCA Cosmetics Ultimate Coverage 24 Hour Foun...</td>\n",
       "      <td>240</td>\n",
       "      <td>196</td>\n",
       "      <td>171</td>\n",
       "    </tr>\n",
       "  </tbody>\n",
       "</table>\n",
       "</div>"
      ],
      "text/plain": [
       "                                          Foundation  red  green  blue\n",
       "0  BECCA Cosmetics Ultimate Coverage 24 Hour Foun...  239    203   164\n",
       "1  BECCA Cosmetics Ultimate Coverage 24 Hour Foun...  243    206   176\n",
       "2  BECCA Cosmetics Ultimate Coverage 24 Hour Foun...  242    203   180\n",
       "3  BECCA Cosmetics Ultimate Coverage 24 Hour Foun...  246    200   167\n",
       "4  BECCA Cosmetics Ultimate Coverage 24 Hour Foun...  240    196   171"
      ]
     },
     "execution_count": 40,
     "metadata": {},
     "output_type": "execute_result"
    }
   ],
   "source": [
    "shades_new.head()"
   ]
  },
  {
   "cell_type": "code",
   "execution_count": 47,
   "metadata": {},
   "outputs": [
    {
     "data": {
      "text/html": [
       "<div>\n",
       "<style scoped>\n",
       "    .dataframe tbody tr th:only-of-type {\n",
       "        vertical-align: middle;\n",
       "    }\n",
       "\n",
       "    .dataframe tbody tr th {\n",
       "        vertical-align: top;\n",
       "    }\n",
       "\n",
       "    .dataframe thead th {\n",
       "        text-align: right;\n",
       "    }\n",
       "</style>\n",
       "<table border=\"1\" class=\"dataframe\">\n",
       "  <thead>\n",
       "    <tr style=\"text-align: right;\">\n",
       "      <th></th>\n",
       "      <th>Foundation</th>\n",
       "      <th>red</th>\n",
       "      <th>green</th>\n",
       "      <th>blue</th>\n",
       "    </tr>\n",
       "  </thead>\n",
       "  <tbody>\n",
       "    <tr>\n",
       "      <th>0</th>\n",
       "      <td>BECCA Cosmetics Ultimate Coverage 24 Hour Foun...</td>\n",
       "      <td>239</td>\n",
       "      <td>203</td>\n",
       "      <td>164</td>\n",
       "    </tr>\n",
       "    <tr>\n",
       "      <th>1</th>\n",
       "      <td>BECCA Cosmetics Ultimate Coverage 24 Hour Foun...</td>\n",
       "      <td>243</td>\n",
       "      <td>206</td>\n",
       "      <td>176</td>\n",
       "    </tr>\n",
       "    <tr>\n",
       "      <th>2</th>\n",
       "      <td>BECCA Cosmetics Ultimate Coverage 24 Hour Foun...</td>\n",
       "      <td>242</td>\n",
       "      <td>203</td>\n",
       "      <td>180</td>\n",
       "    </tr>\n",
       "    <tr>\n",
       "      <th>3</th>\n",
       "      <td>BECCA Cosmetics Ultimate Coverage 24 Hour Foun...</td>\n",
       "      <td>246</td>\n",
       "      <td>200</td>\n",
       "      <td>167</td>\n",
       "    </tr>\n",
       "    <tr>\n",
       "      <th>4</th>\n",
       "      <td>BECCA Cosmetics Ultimate Coverage 24 Hour Foun...</td>\n",
       "      <td>240</td>\n",
       "      <td>196</td>\n",
       "      <td>171</td>\n",
       "    </tr>\n",
       "  </tbody>\n",
       "</table>\n",
       "</div>"
      ],
      "text/plain": [
       "                                          Foundation  red  green  blue\n",
       "0  BECCA Cosmetics Ultimate Coverage 24 Hour Foun...  239    203   164\n",
       "1  BECCA Cosmetics Ultimate Coverage 24 Hour Foun...  243    206   176\n",
       "2  BECCA Cosmetics Ultimate Coverage 24 Hour Foun...  242    203   180\n",
       "3  BECCA Cosmetics Ultimate Coverage 24 Hour Foun...  246    200   167\n",
       "4  BECCA Cosmetics Ultimate Coverage 24 Hour Foun...  240    196   171"
      ]
     },
     "execution_count": 47,
     "metadata": {},
     "output_type": "execute_result"
    }
   ],
   "source": [
    "shades_new.head()"
   ]
  },
  {
   "cell_type": "markdown",
   "metadata": {},
   "source": [
    "### Testing Cosine Similarities between various foundations and my shade"
   ]
  },
  {
   "cell_type": "code",
   "execution_count": 52,
   "metadata": {},
   "outputs": [],
   "source": [
    "my_shade = {'Foundation': 'My Shade' , 'red':80 , 'green':48 ,'blue':33}"
   ]
  },
  {
   "cell_type": "code",
   "execution_count": 81,
   "metadata": {},
   "outputs": [
    {
     "data": {
      "text/plain": [
       "array([[0.97877981]])"
      ]
     },
     "execution_count": 81,
     "metadata": {},
     "output_type": "execute_result"
    }
   ],
   "source": [
    "cosine_similarity([[239, 203, 164]], [[80, 48, 33]])"
   ]
  },
  {
   "cell_type": "code",
   "execution_count": 82,
   "metadata": {},
   "outputs": [
    {
     "data": {
      "text/plain": [
       "array([[0.97794488]])"
      ]
     },
     "execution_count": 82,
     "metadata": {},
     "output_type": "execute_result"
    }
   ],
   "source": [
    "cosine_similarity([[240, 196, 171]], [[80, 48, 33]])"
   ]
  },
  {
   "cell_type": "markdown",
   "metadata": {},
   "source": [
    "# Creating our Recommender System"
   ]
  },
  {
   "cell_type": "code",
   "execution_count": 91,
   "metadata": {},
   "outputs": [],
   "source": [
    "# function to apply to dataframe to compare cosine similarities to myshade\n",
    "\n",
    "def foundation(row): # accepts a row of the dataframe to use it on the shades_new df\n",
    "    red = row['red'] # the value red is equal to the rows value\n",
    "    green = row['green'] # the value green is equal to the rows value\n",
    "    blue = row['blue'] # the value blue is equal to the rows value\n",
    "    foundation_shade = [[red, green, blue]]\n",
    "    my_shade = [[80, 48, 33]] #plugging in the skin foundation found from the algorithm \n",
    "    similar = cosine_similarity(my_shade, foundation_shade) # calculating the cosine similarity \n",
    "    similar = similar[0][0]\n",
    "    return similar"
   ]
  },
  {
   "cell_type": "code",
   "execution_count": 93,
   "metadata": {},
   "outputs": [],
   "source": [
    "# adding a new column to the dataframe to store each cosine similarities from the image extracted value to the dataset\n",
    "shades_new['similarities'] = shades_new.apply(foundation, axis=1)"
   ]
  },
  {
   "cell_type": "code",
   "execution_count": 112,
   "metadata": {},
   "outputs": [
    {
     "data": {
      "text/html": [
       "<div>\n",
       "<style scoped>\n",
       "    .dataframe tbody tr th:only-of-type {\n",
       "        vertical-align: middle;\n",
       "    }\n",
       "\n",
       "    .dataframe tbody tr th {\n",
       "        vertical-align: top;\n",
       "    }\n",
       "\n",
       "    .dataframe thead th {\n",
       "        text-align: right;\n",
       "    }\n",
       "</style>\n",
       "<table border=\"1\" class=\"dataframe\">\n",
       "  <thead>\n",
       "    <tr style=\"text-align: right;\">\n",
       "      <th></th>\n",
       "      <th>red</th>\n",
       "      <th>green</th>\n",
       "      <th>blue</th>\n",
       "      <th>similarities</th>\n",
       "    </tr>\n",
       "    <tr>\n",
       "      <th>Foundation</th>\n",
       "      <th></th>\n",
       "      <th></th>\n",
       "      <th></th>\n",
       "      <th></th>\n",
       "    </tr>\n",
       "  </thead>\n",
       "  <tbody>\n",
       "    <tr>\n",
       "      <th>KVD Vegan Beauty Lock-It Powder Foundation Refills 210</th>\n",
       "      <td>163</td>\n",
       "      <td>98</td>\n",
       "      <td>68</td>\n",
       "      <td>0.999994</td>\n",
       "    </tr>\n",
       "  </tbody>\n",
       "</table>\n",
       "</div>"
      ],
      "text/plain": [
       "                                                    red  green  blue  \\\n",
       "Foundation                                                             \n",
       "KVD Vegan Beauty Lock-It Powder Foundation Refi...  163     98    68   \n",
       "\n",
       "                                                    similarities  \n",
       "Foundation                                                        \n",
       "KVD Vegan Beauty Lock-It Powder Foundation Refi...      0.999994  "
      ]
     },
     "execution_count": 112,
     "metadata": {},
     "output_type": "execute_result"
    }
   ],
   "source": [
    "shades_new.sort_values(by='similarities', ascending=False).head(1) # Finding the closest matched foundation"
   ]
  },
  {
   "cell_type": "markdown",
   "metadata": {},
   "source": [
    "A similarity of .999 is very high and a great start to a recommendation. "
   ]
  },
  {
   "cell_type": "markdown",
   "metadata": {},
   "source": [
    "# Conclusions and Next Steps"
   ]
  },
  {
   "cell_type": "markdown",
   "metadata": {},
   "source": [
    "In conlcusion our algorithm is able to extract the image and determine the skin color, our next steps include building out the application in Flask. "
   ]
  }
 ],
 "metadata": {
  "kernelspec": {
   "display_name": "Python 3",
   "language": "python",
   "name": "python3"
  },
  "language_info": {
   "codemirror_mode": {
    "name": "ipython",
    "version": 3
   },
   "file_extension": ".py",
   "mimetype": "text/x-python",
   "name": "python",
   "nbconvert_exporter": "python",
   "pygments_lexer": "ipython3",
   "version": "3.8.5"
  }
 },
 "nbformat": 4,
 "nbformat_minor": 4
}
